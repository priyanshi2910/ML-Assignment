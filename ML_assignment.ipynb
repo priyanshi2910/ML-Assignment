{
  "nbformat": 4,
  "nbformat_minor": 0,
  "metadata": {
    "colab": {
      "name": "ML_assignment-1",
      "provenance": [],
      "collapsed_sections": []
    },
    "kernelspec": {
      "name": "python3",
      "display_name": "Python 3"
    },
    "language_info": {
      "name": "python"
    }
  },
  "cells": [
    {
      "cell_type": "code",
      "metadata": {
        "colab": {
          "base_uri": "https://localhost:8080/"
        },
        "id": "pxi08ODf-FDj",
        "outputId": "050a5dd9-bbf7-4331-e40a-9d6b4e43217b"
      },
      "source": [
        "from datetime import datetime\n",
        "name=input(\"Enter your Name:\")\n",
        "age=int(input(\"Enter your Age\"))\n",
        "var=int((100-age)+datetime.now().year)\n",
        "print('Hi %s. Your age is %s. You will turn 100 in the year %s' %(name,age,var))\n",
        "\n",
        "num=int(input(\"Enter the number of times you want to print the message:\"))\n",
        "for x in range(num):\n",
        "  print('Hi %s. Your age is %s. You will turn 100 in the year %s' %(name,age,var))\n",
        "\n",
        "num=int(input(\"Enter the number of times you want to print the message with line spacing:\"))\n",
        "for x in range(num):\n",
        "  print('Hi %s. Your age is %s. You will turn 100 in the year %s \\n' %(name,age,var))"
      ],
      "execution_count": 1,
      "outputs": [
        {
          "output_type": "stream",
          "text": [
            "Enter your Name:Priyanshi\n",
            "Enter your Age21\n",
            "Hi Priyanshi. Your age is 21. You will turn 100 in the year 2100\n",
            "Enter the number of times you want to print the message:5\n",
            "Hi Priyanshi. Your age is 21. You will turn 100 in the year 2100\n",
            "Hi Priyanshi. Your age is 21. You will turn 100 in the year 2100\n",
            "Hi Priyanshi. Your age is 21. You will turn 100 in the year 2100\n",
            "Hi Priyanshi. Your age is 21. You will turn 100 in the year 2100\n",
            "Hi Priyanshi. Your age is 21. You will turn 100 in the year 2100\n",
            "Enter the number of times you want to print the message with line spacing:5\n",
            "Hi Priyanshi. Your age is 21. You will turn 100 in the year 2100 \n",
            "\n",
            "Hi Priyanshi. Your age is 21. You will turn 100 in the year 2100 \n",
            "\n",
            "Hi Priyanshi. Your age is 21. You will turn 100 in the year 2100 \n",
            "\n",
            "Hi Priyanshi. Your age is 21. You will turn 100 in the year 2100 \n",
            "\n",
            "Hi Priyanshi. Your age is 21. You will turn 100 in the year 2100 \n",
            "\n"
          ],
          "name": "stdout"
        }
      ]
    },
    {
      "cell_type": "code",
      "metadata": {
        "colab": {
          "base_uri": "https://localhost:8080/"
        },
        "id": "xNLfeUg3DVtT",
        "outputId": "4a5be231-c92d-4426-c02c-e85a50965a48"
      },
      "source": [
        "a= [1,1,2,3,5,8,13,21,34,55,89]\n",
        "b=[]\n",
        "for x in a:\n",
        "  if x<5:\n",
        "    b.append(x)\n",
        "print(b)"
      ],
      "execution_count": null,
      "outputs": [
        {
          "output_type": "stream",
          "text": [
            "[1, 1, 2, 3]\n"
          ],
          "name": "stdout"
        }
      ]
    },
    {
      "cell_type": "code",
      "metadata": {
        "colab": {
          "base_uri": "https://localhost:8080/"
        },
        "id": "wXiZ-glkD2iW",
        "outputId": "be564cd3-d9ff-4c61-e974-09d97bf3559a"
      },
      "source": [
        "[print(x) for x in b]"
      ],
      "execution_count": null,
      "outputs": [
        {
          "output_type": "stream",
          "text": [
            "1\n",
            "1\n",
            "2\n",
            "3\n"
          ],
          "name": "stdout"
        },
        {
          "output_type": "execute_result",
          "data": {
            "text/plain": [
              "[None, None, None, None]"
            ]
          },
          "metadata": {
            "tags": []
          },
          "execution_count": 9
        }
      ]
    },
    {
      "cell_type": "code",
      "metadata": {
        "colab": {
          "base_uri": "https://localhost:8080/"
        },
        "id": "2gYb909EEHwu",
        "outputId": "5a8f47ef-6637-48f1-c1ce-7c6999c38442"
      },
      "source": [
        "number2=int(input(\"Enter the number:\"))\n",
        "for x in a:\n",
        "  if x<number2:\n",
        "    print(x)"
      ],
      "execution_count": null,
      "outputs": [
        {
          "output_type": "stream",
          "text": [
            "Enter the number:10\n",
            "1\n",
            "1\n",
            "2\n",
            "3\n",
            "5\n",
            "8\n"
          ],
          "name": "stdout"
        }
      ]
    },
    {
      "cell_type": "code",
      "metadata": {
        "colab": {
          "base_uri": "https://localhost:8080/"
        },
        "id": "ddoXIkSkEIgp",
        "outputId": "16495ef6-34eb-4d7f-bb7b-c5c8aec66bae"
      },
      "source": [
        "def fibo(n):\n",
        "  if n<=1:\n",
        "    return n\n",
        "  else:\n",
        "      return(fibo(n-1)+fibo(n-2))\n",
        "\n",
        "terms=int(input(\"Number of terms\"))\n",
        "if terms<=0:\n",
        "  print(\"Enter a positive interger\")\n",
        "else:\n",
        "  print(\"fibonacci Series\")\n",
        "  for i in range(terms):\n",
        "    print(fibo(i))"
      ],
      "execution_count": null,
      "outputs": [
        {
          "output_type": "stream",
          "text": [
            "Number of terms7\n",
            "fibonacci Series\n",
            "0\n",
            "1\n",
            "1\n",
            "2\n",
            "3\n",
            "5\n",
            "8\n"
          ],
          "name": "stdout"
        }
      ]
    },
    {
      "cell_type": "code",
      "metadata": {
        "colab": {
          "base_uri": "https://localhost:8080/"
        },
        "id": "YfzgS9oxOAn_",
        "outputId": "681ec2e1-8e11-4327-c8b7-30615e2d2118"
      },
      "source": [
        "list1 = [1,1,2,3,5,8,13,3,5,6,1]\n",
        "list2=[]\n",
        "for i in list1:\n",
        "  if i not in list2:\n",
        "    list2.append(i)\n",
        "\n",
        "print(\"The original list is\" + str(list1))\n",
        "print(\"New list without duplicates is\" + str(list2))\n",
        "\n"
      ],
      "execution_count": null,
      "outputs": [
        {
          "output_type": "stream",
          "text": [
            "The original list is[1, 1, 2, 3, 5, 8, 13, 3, 5, 6, 1]\n",
            "New list without duplicates is[1, 2, 3, 5, 8, 13, 6]\n"
          ],
          "name": "stdout"
        }
      ]
    },
    {
      "cell_type": "code",
      "metadata": {
        "colab": {
          "base_uri": "https://localhost:8080/"
        },
        "id": "AfXkCM1hm6QN",
        "outputId": "e42efdd9-0395-47cb-9569-c91867f690ea"
      },
      "source": [
        "list1 = [1,1,2,3,5,8,13,3,5,6,1]\n",
        "def func(list1):\n",
        "  list3=[]\n",
        "  for i in list1:\n",
        "    if  i not in list3:\n",
        "      list3.append(i)\n",
        "  print(\"New list is\" +str(list3))\n",
        "\n",
        "func(list1)\n",
        "\n"
      ],
      "execution_count": null,
      "outputs": [
        {
          "output_type": "stream",
          "text": [
            "New list is[1, 2, 3, 5, 8, 13, 6]\n"
          ],
          "name": "stdout"
        }
      ]
    },
    {
      "cell_type": "code",
      "metadata": {
        "colab": {
          "base_uri": "https://localhost:8080/"
        },
        "id": "W3KZ1fGXm70b",
        "outputId": "78ffee63-e120-4fc2-aa08-aca6840e953e"
      },
      "source": [
        "def func2(list1):\n",
        "  newlist=list(set(list1))\n",
        "  print(\"New List\" +str(newlist))\n",
        "\n",
        "func2(list1)"
      ],
      "execution_count": null,
      "outputs": [
        {
          "output_type": "stream",
          "text": [
            "New List[1, 2, 3, 5, 6, 8, 13]\n"
          ],
          "name": "stdout"
        }
      ]
    },
    {
      "cell_type": "code",
      "metadata": {
        "colab": {
          "base_uri": "https://localhost:8080/"
        },
        "id": "z7skYqc2n0K6",
        "outputId": "85ac0cfc-e964-4ac0-99d8-23f17fc75aaa"
      },
      "source": [
        "num=int(input(\"Enter the number that you want to check\"))\n",
        "\n",
        "def Prime(num1):\n",
        "  flag= False\n",
        "  if num1>1:\n",
        "    for i in range(2,num1):\n",
        "      if(num1%i) ==0:\n",
        "        flag =True\n",
        "        break\n",
        "  if flag:\n",
        "    print(\"%s is not prime\" %(num1))\n",
        "  else:\n",
        "    print(\"%s in prime\" %(num1))\n",
        "\n",
        "Prime(num)"
      ],
      "execution_count": null,
      "outputs": [
        {
          "output_type": "stream",
          "text": [
            "Enter the number that you want to check7\n",
            "7 in prime\n"
          ],
          "name": "stdout"
        }
      ]
    }
  ]
}